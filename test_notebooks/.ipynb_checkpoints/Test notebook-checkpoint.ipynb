{
 "cells": [
  {
   "cell_type": "markdown",
   "metadata": {},
   "source": [
    "# for Greenwood and Jovanovich\n"
   ]
  },
  {
   "cell_type": "markdown",
   "metadata": {},
   "source": [
    "Other refereces:\n",
    "- Integral over a distribution: http://math.stackexchange.com/questions/380785/what-does-it-mean-to-integrate-with-respect-to-the-distribution-function\n"
   ]
  },
  {
   "cell_type": "code",
   "execution_count": null,
   "metadata": {
    "collapsed": false
   },
   "outputs": [],
   "source": [
    "import numpy as np\n",
    "import scipy as sp\n",
    "import scipy.stats\n",
    "from scipy.optimize import fminbound"
   ]
  },
  {
   "cell_type": "code",
   "execution_count": null,
   "metadata": {
    "collapsed": false
   },
   "outputs": [],
   "source": [
    "# Interpolation\n",
    "\n",
    "grid = np.linspace(0,10,11)\n",
    "w = 5 * grid - 25\n",
    "print sp.interp(2, grid, w)\n",
    "print type(grid)\n",
    "print grid.size\n"
   ]
  },
  {
   "cell_type": "code",
   "execution_count": null,
   "metadata": {
    "collapsed": false
   },
   "outputs": [],
   "source": [
    "# Normal distributions density funciton.\n",
    "import scipy.stats\n",
    "\n",
    "def exp_val(x,safe):\n",
    "    print x,\":\",max(safe,x),\"*\",sp.stats.norm(loc=2,scale=0.3).pdf(x),\"=\",((max(safe,x))*sp.stats.norm(loc=2,scale=0.3).pdf(x))\n",
    "    return ((max(safe,x))*sp.stats.norm(loc=2,scale=0.3).pdf(x))\n",
    "    \n",
    "def int_exp_val(safe):\n",
    "    return sp.integrate.quad(exp_val,0,5,args=(safe))[0]\n",
    "    \n",
    "grid = np.random.normal(2,0.3,size=60)\n",
    "\n",
    "wealth_distr = scipy.stats.norm(loc=2,scale=0.4)\n",
    "\n",
    "#print min(grid)\n",
    "print int_exp_val(0)\n",
    "print sp.integrate.quad(lambda x: sp.stats.norm(loc=2,scale=0.3).pdf(x),0,5)[0]\n"
   ]
  },
  {
   "cell_type": "code",
   "execution_count": null,
   "metadata": {
    "collapsed": false
   },
   "outputs": [],
   "source": [
    "print sp.stats.norm(loc=2,scale=0.3).pdf(4.191)"
   ]
  },
  {
   "cell_type": "markdown",
   "metadata": {},
   "source": [
    "Tests with the interpolation function and the integral function."
   ]
  },
  {
   "cell_type": "code",
   "execution_count": null,
   "metadata": {
    "collapsed": true
   },
   "outputs": [],
   "source": [
    "    \n",
    "x_axis = np.linspace(0,15,500)\n",
    "y_axis = x_axis*0.5\n",
    "print y_axis"
   ]
  },
  {
   "cell_type": "code",
   "execution_count": null,
   "metadata": {
    "collapsed": false
   },
   "outputs": [],
   "source": [
    "def x_interp(xax,yax):\n",
    "    return lambda x: sp.interp(x,xax,yax)\n",
    "\n",
    "function_ = x_interp(x_axis,y_axis)\n",
    "print function_(15)\n"
   ]
  },
  {
   "cell_type": "code",
   "execution_count": null,
   "metadata": {
    "collapsed": false
   },
   "outputs": [],
   "source": [
    "SAFE = 1\n",
    "def PDF(x):\n",
    "    return sp.stats.norm(loc=2,scale=0.3).pdf(x)\n",
    "def integral(s,am):\n",
    "    return sp.integrate.quad((lambda theta,sI : sp.interp(sI*max(SAFE,theta),x_axis,y_axis)*PDF(theta)),0,am,args=s)\n",
    "\n",
    "print integral(1,10)"
   ]
  },
  {
   "cell_type": "code",
   "execution_count": null,
   "metadata": {
    "collapsed": false,
    "scrolled": true
   },
   "outputs": [],
   "source": [
    "BETA = 0.987\n",
    "capital = 3\n",
    "objective = lambda s,k: - np.log(k-s) - BETA * integral(s,10)[0]\n",
    "s_star = fminbound(objective, 1e-6, capital, args=(capital,))\n",
    "print s_star\n",
    "print -objective(s_star,capital)"
   ]
  },
  {
   "cell_type": "markdown",
   "metadata": {},
   "source": [
    "## The Bellman operators for the two value functions\n",
    "This part is based on the Prof. Sargent and Prof. Stachurski's approach from [HERE](http://quant-econ.net/py/optgrowth.html)."
   ]
  },
  {
   "cell_type": "markdown",
   "metadata": {
    "collapsed": false
   },
   "source": [
    "THIS IS A FINAL VERSION FOR THE the V(K) FUNCTION!"
   ]
  },
  {
   "cell_type": "code",
   "execution_count": 4,
   "metadata": {
    "collapsed": true
   },
   "outputs": [
    {
     "name": "stdout",
     "output_type": "stream",
     "text": [
      "0\n",
      "1\n",
      "2\n",
      "3\n",
      "4\n",
      "5\n",
      "6\n",
      "7\n",
      "8\n",
      "9\n",
      "[-94.07755279 -22.44586921 -18.98013481 -16.95280977 -15.51439966\n",
      " -14.39868205 -13.48707437 -12.71632104 -12.04866413 -11.45974899]\n",
      "[-107.15126733  -21.1808523   -16.89829775  -14.46906857  -12.75540259\n",
      "  -11.51489556  -10.72121943  -10.20276934   -9.83360382   -9.55174137]\n"
     ]
    }
   ],
   "source": [
    "import numpy as np\n",
    "import scipy as sp\n",
    "import scipy.stats\n",
    "from scipy.integrate import quad\n",
    "from scipy.optimize import fminbound\n",
    "from numpy import log\n",
    "from scipy import interp\n",
    "\n",
    "SAFE = 1\n",
    "BETA = 0.987\n",
    "# DISTRIBUTION PARAM\n",
    "MEAN = 2\n",
    "STDEV = 0.3\n",
    "MAX_VAL = 5\n",
    "# Number of iterations\n",
    "N = 200\n",
    "\n",
    "wealth_axis = np.linspace(1e-6,15,10)\n",
    "\n",
    "def PDF(x):\n",
    "    return scipy.stats.norm(loc=MEAN,scale=STDEV).pdf(x)\n",
    "\n",
    "def v_integral(s,MAX,W_ax,Y_ax):\n",
    "    return quad((lambda theta,sI : interp(sI*max(SAFE,theta),\n",
    "                                        W_ax,Y_ax)*PDF(theta)),0,MAX,args=(s,),limit=100)\n",
    "\n",
    "def v_bellman_op(v):\n",
    "    Tv = np.empty(wealth_axis.size)\n",
    "    for i, k in enumerate(wealth_axis):\n",
    "        objective = lambda s,k: - np.log(k-s) - BETA * v_integral(s,MAX_VAL,\n",
    "                                                               wealth_axis,\n",
    "                                                               v)[0]\n",
    "        s_star = fminbound(objective, 1e-12, k-1e-12, args=(k,))\n",
    "        Tv[i] = -objective(s_star,k)\n",
    "        print i\n",
    "    return Tv\n",
    "\n",
    "v = 5 * log(wealth_axis) - 25\n",
    "for i in range(N):\n",
    "    v = v_bellman_op(v)\n",
    "np.savetxt('v_value_func.csv',v, delimiter=\",\")\n",
    "np.savetxt('wealth_grid.csv',wealth_axis, delimiter=\",\")"
   ]
  },
  {
   "cell_type": "markdown",
   "metadata": {},
   "source": [
    "The multiprocessing version can be found in the python file."
   ]
  },
  {
   "cell_type": "code",
   "execution_count": 1,
   "metadata": {
    "collapsed": true
   },
   "outputs": [
    {
     "name": "stdout",
     "output_type": "stream",
     "text": [
      "[-94.07755279 -30.91883449 -27.45310675 -25.42578393 -23.98737493\n",
      " -22.87165799 -21.96005075 -21.18929774 -20.52164107 -19.93272612\n",
      " -19.40592372 -18.92937297 -18.49431621 -18.09410277 -17.723563\n",
      " -17.37859872 -17.05590619 -16.75278314 -16.46699112 -16.19665506\n",
      " -15.94018863 -15.69623785 -15.46363781 -15.24137903 -15.02858099\n",
      " -14.82447104 -14.6283675  -14.43966588 -14.25782768 -14.08237111\n",
      " -13.91286337 -13.74891427 -13.59017079 -13.43631252 -13.28704771\n",
      " -13.14211004 -13.00125567 -12.86426081 -12.73091959 -12.60104217\n",
      " -12.47445314 -12.35099009 -12.23050234 -12.11284986 -11.99790228\n",
      " -11.88553801 -11.77564348 -11.66811246 -11.56284542 -11.45974899]\n",
      "[-69.07755279541016, -5.918834686279297, -2.453106641769409, -0.4257839322090149, 1.0126250982284546, 2.1283419132232666, 3.0399491786956787, 3.810702323913574, 4.478358745574951, 5.06727409362793, 5.594076156616211, 6.070627212524414, 6.505683898925781, 6.90589714050293, 7.276436805725098, 7.621401309967041, 7.944093704223633, 8.247217178344727, 8.533008575439453, 8.8033447265625, 9.05981159210205, 9.303762435913086, 9.536362648010254, 9.758621215820312, 9.971419334411621, 10.175528526306152, 10.37163257598877, 10.560334205627441, 10.742172241210938, 10.91762924194336, 11.087136268615723, 11.25108528137207, 11.409829139709473, 11.563687324523926, 11.712952613830566, 11.857890129089355, 11.998744010925293, 12.13573932647705, 12.26908016204834, 12.398958206176758, 12.52554702758789, 12.649009704589844, 12.769497871398926, 12.887149810791016, 13.002098083496094, 13.114461898803711, 13.224356651306152, 13.331887245178223, 13.437154769897461, 13.540250778198242]\n"
     ]
    }
   ],
   "source": []
  }
 ],
 "metadata": {
  "kernelspec": {
   "display_name": "Python 2",
   "language": "python",
   "name": "python2"
  },
  "language_info": {
   "codemirror_mode": {
    "name": "ipython",
    "version": 2
   },
   "file_extension": ".py",
   "mimetype": "text/x-python",
   "name": "python",
   "nbconvert_exporter": "python",
   "pygments_lexer": "ipython2",
   "version": "2.7.11"
  }
 },
 "nbformat": 4,
 "nbformat_minor": 0
}
