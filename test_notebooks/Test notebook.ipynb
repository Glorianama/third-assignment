{
 "cells": [
  {
   "cell_type": "markdown",
   "metadata": {},
   "source": [
    "# for Greenwood and Jovanovich\n"
   ]
  },
  {
   "cell_type": "markdown",
   "metadata": {},
   "source": [
    "Other refereces:\n",
    "- Integral over a distribution: http://math.stackexchange.com/questions/380785/what-does-it-mean-to-integrate-with-respect-to-the-distribution-function\n"
   ]
  },
  {
   "cell_type": "code",
   "execution_count": null,
   "metadata": {
    "collapsed": false
   },
   "outputs": [],
   "source": [
    "import numpy as np\n",
    "import scipy as sp\n",
    "import scipy.stats\n",
    "from scipy.optimize import fminbound"
   ]
  },
  {
   "cell_type": "code",
   "execution_count": null,
   "metadata": {
    "collapsed": false
   },
   "outputs": [],
   "source": [
    "# Interpolation\n",
    "\n",
    "grid = np.linspace(0,10,11)\n",
    "w = 5 * grid - 25\n",
    "print sp.interp(2, grid, w)\n",
    "print type(grid)\n",
    "print grid.size\n"
   ]
  },
  {
   "cell_type": "code",
   "execution_count": null,
   "metadata": {
    "collapsed": false
   },
   "outputs": [],
   "source": [
    "# Normal distributions density funciton.\n",
    "import scipy.stats\n",
    "\n",
    "def exp_val(x,safe):\n",
    "    print x,\":\",max(safe,x),\"*\",sp.stats.norm(loc=2,scale=0.3).pdf(x),\"=\",((max(safe,x))*sp.stats.norm(loc=2,scale=0.3).pdf(x))\n",
    "    return ((max(safe,x))*sp.stats.norm(loc=2,scale=0.3).pdf(x))\n",
    "    \n",
    "def int_exp_val(safe):\n",
    "    return sp.integrate.quad(exp_val,0,5,args=(safe))[0]\n",
    "    \n",
    "grid = np.random.normal(2,0.3,size=60)\n",
    "\n",
    "wealth_distr = scipy.stats.norm(loc=2,scale=0.4)\n",
    "\n",
    "#print min(grid)\n",
    "print int_exp_val(0)\n",
    "print sp.integrate.quad(lambda x: sp.stats.norm(loc=2,scale=0.3).pdf(x),0,5)[0]\n"
   ]
  },
  {
   "cell_type": "code",
   "execution_count": null,
   "metadata": {
    "collapsed": false
   },
   "outputs": [],
   "source": [
    "print sp.stats.norm(loc=2,scale=0.3).pdf(4.191)"
   ]
  },
  {
   "cell_type": "markdown",
   "metadata": {},
   "source": [
    "Tests with the interpolation function and the integral function."
   ]
  },
  {
   "cell_type": "code",
   "execution_count": null,
   "metadata": {
    "collapsed": true
   },
   "outputs": [],
   "source": [
    "    \n",
    "x_axis = np.linspace(0,15,500)\n",
    "y_axis = x_axis*0.5\n",
    "print y_axis"
   ]
  },
  {
   "cell_type": "code",
   "execution_count": null,
   "metadata": {
    "collapsed": false
   },
   "outputs": [],
   "source": [
    "def x_interp(xax,yax):\n",
    "    return lambda x: sp.interp(x,xax,yax)\n",
    "\n",
    "function_ = x_interp(x_axis,y_axis)\n",
    "print function_(15)\n"
   ]
  },
  {
   "cell_type": "code",
   "execution_count": null,
   "metadata": {
    "collapsed": false
   },
   "outputs": [],
   "source": [
    "SAFE = 1\n",
    "def PDF(x):\n",
    "    return sp.stats.norm(loc=2,scale=0.3).pdf(x)\n",
    "def integral(s,am):\n",
    "    return sp.integrate.quad((lambda theta,sI : sp.interp(sI*max(SAFE,theta),x_axis,y_axis)*PDF(theta)),0,am,args=s)\n",
    "\n",
    "print integral(1,10)"
   ]
  },
  {
   "cell_type": "code",
   "execution_count": null,
   "metadata": {
    "collapsed": false,
    "scrolled": true
   },
   "outputs": [],
   "source": [
    "BETA = 0.987\n",
    "capital = 3\n",
    "objective = lambda s,k: - np.log(k-s) - BETA * integral(s,10)[0]\n",
    "s_star = fminbound(objective, 1e-6, capital, args=(capital,))\n",
    "print s_star\n",
    "print -objective(s_star,capital)"
   ]
  },
  {
   "cell_type": "markdown",
   "metadata": {},
   "source": [
    "## The Bellman operators for the two value functions\n",
    "This part is based on the Prof. Sargent and Prof. Stachurski's approach from [HERE](http://quant-econ.net/py/optgrowth.html)."
   ]
  },
  {
   "cell_type": "markdown",
   "metadata": {
    "collapsed": false
   },
   "source": [
    "### The Bellman operator for V(K)\n",
    "THIS IS A FINAL VERSION FOR THE the V(K) FUNCTION!"
   ]
  },
  {
   "cell_type": "code",
   "execution_count": 25,
   "metadata": {
    "collapsed": true
   },
   "outputs": [],
   "source": [
    "import numpy as np\n",
    "import scipy as sp\n",
    "import scipy.stats\n",
    "import parameters as param\n",
    "from scipy.integrate import quad\n",
    "from scipy.optimize import fminbound\n",
    "from numpy import log\n",
    "from scipy import interp\n",
    "\n",
    "\n",
    "SAFE = param.SAFE_R\n",
    "BETA = param.BETA\n",
    "# DISTRIBUTION PARAM OF THETA (Aggregate shock)\n",
    "MEAN = param.AG_MEAN\n",
    "STDEV = param.AG_STDE\n",
    "MAX_VAL = param.AG_MAXVAL   # Max value of theta for the integration\n",
    "# Number of iterations\n",
    "N = 8\n",
    "\n",
    "wealth_axis = np.linspace(1e-6,15,10)\n",
    "\n",
    "def PDF(x):\n",
    "    return scipy.stats.norm(loc=MEAN,scale=STDEV).pdf(x)"
   ]
  },
  {
   "cell_type": "code",
   "execution_count": 26,
   "metadata": {
    "collapsed": false
   },
   "outputs": [
    {
     "name": "stdout",
     "output_type": "stream",
     "text": [
      "0\n",
      "1\n",
      "2\n",
      "3\n",
      "4\n",
      "5\n",
      "6\n",
      "7\n"
     ]
    }
   ],
   "source": [
    "def v_integral(s,W_ax,Y_ax):\n",
    "    return quad((lambda theta,sI : interp(sI*max(SAFE,theta),\n",
    "                                        W_ax,Y_ax)*PDF(theta)),0,MAX_VAL,args=(s,),limit=100)\n",
    "\n",
    "def v_bellman_op(v):\n",
    "    Tv = np.empty(wealth_axis.size)\n",
    "    for i, k in enumerate(wealth_axis):\n",
    "        objective = lambda s,k: - np.log(k-s) - BETA * v_integral(s,\n",
    "                                                               wealth_axis,\n",
    "                                                               v)[0]\n",
    "        s_star = fminbound(objective, 1e-12, k-1e-12, args=(k,))\n",
    "        Tv[i] = -objective(s_star,k)\n",
    "    return Tv\n",
    "\n",
    "v =  76.9230769* log(wealth_axis) + 3569.764136\n",
    "for i in range(N):\n",
    "    print i\n",
    "    v = v_bellman_op(v)\n",
    "np.savetxt('v_value_func.csv',v, delimiter=\",\")\n",
    "np.savetxt('wealth_grid.csv',wealth_axis, delimiter=\",\")"
   ]
  },
  {
   "cell_type": "markdown",
   "metadata": {},
   "source": [
    "The multiprocessing version can be found in the python file.\n",
    "In order to improve the iteration, the coefficients of the value function using the analytical solution is:"
   ]
  },
  {
   "cell_type": "code",
   "execution_count": 13,
   "metadata": {
    "collapsed": false
   },
   "outputs": [
    {
     "name": "stdout",
     "output_type": "stream",
     "text": [
      "0.681521527414\n",
      "3569.76413694\n",
      "76.9230769231\n"
     ]
    }
   ],
   "source": [
    "integr = quad(lambda theta: log(max(SAFE,theta))*PDF(theta),0,MAX_VAL,limit=100)[0]\n",
    "constant = (1/(1-BETA))*log(1-BETA) + (BETA / ((1-BETA)**2)) * log(BETA) + \\\n",
    "           (BETA / ((1-BETA)**2))  * integr\n",
    "\n",
    "coeff1 = (1 / (1-BETA))\n",
    "print integr\n",
    "print constant\n",
    "print coeff1"
   ]
  },
  {
   "cell_type": "markdown",
   "metadata": {},
   "source": [
    "### The Bellman operator for W(K)"
   ]
  },
  {
   "cell_type": "code",
   "execution_count": null,
   "metadata": {
    "collapsed": false
   },
   "outputs": [],
   "source": [
    "import numpy as np\n",
    "import scipy as sp\n",
    "import scipy.stats\n",
    "import parameters as param\n",
    "from scipy.integrate import dblquad\n",
    "from scipy.optimize import fminbound\n",
    "from numpy import log\n",
    "from scipy import interp\n",
    "\n",
    "SAFE = param.SAFE_R\n",
    "BETA = param.BETA\n",
    "# DISTRIBUTION PARAM (AGGREGATE)\n",
    "AG_MEAN = param.AG_MEAN\n",
    "AG_STDEV = param.AG_STDE\n",
    "MAX_VAL_AG = param.AG_MAXVAL\n",
    "# DISTRIBUTION PARAM (idios. shocks)\n",
    "ID_MEAN = param.IS_MEAN\n",
    "ID_STDEV = param.IS_STDE\n",
    "MAX_VAL_E = param.IS_MAXVAL\n",
    "MIN_VAL_E = param.IS_MINVAL\n",
    "# Number of iterations\n",
    "N = 5\n",
    "COST = 1.5\n",
    "\n",
    "wealth_axis = np.linspace(1e-6,15,10)\n",
    "v_func = 76.9230769* log(wealth_axis) + 3569.764136\n",
    "\n",
    "def aggPDF(x):\n",
    "    return scipy.stats.norm(loc=WE_MEAN,scale=WE_STDEV).pdf(x)\n",
    "def idiPDF(x):\n",
    "    return scipy.stats.norm(loc=ID_MEAN,scale=ID_STDEV).pdf(x)\n",
    "\n",
    "def w_integral(s,W_ax,Y_ax):\n",
    "    function = lambda eps,theta,s: max(interp(s*(theta+eps),W_ax,Y_ax),\n",
    "                                     interp(s*(theta+eps)-COST,W_ax,v_func))*aggPDF(theta)*idiPDF(eps)\n",
    "    return dblquad(function,MIN_VAL_E,MAX_VAL_E,lambda x: 0, lambda x: MAX_VAL_AG, args=(s,))\n",
    "\n",
    "def w_bellman_op(w):\n",
    "    Tw = np.empty(wealth_axis.size)\n",
    "    for i,k in enumerate(wealth_axis):\n",
    "        objective = lambda s,k: - log(k-s) - BETA * w_integral(s,wealth_axis,w)[0]\n",
    "        s_star = fminbound(objective, 1e-12, k-1e-12, args=(k,))\n",
    "        Tw[i] = -objective(s_star,k)\n",
    "    return Tw\n",
    "\n",
    "w = 10*log(wealth_axis) + 10\n",
    "for i in range(N):\n",
    "    w = w_bellman_op(w)\n",
    "np.savetxt('w_value_func.csv',w,delimiter=',')"
   ]
  }
 ],
 "metadata": {
  "kernelspec": {
   "display_name": "Python 2",
   "language": "python",
   "name": "python2"
  },
  "language_info": {
   "codemirror_mode": {
    "name": "ipython",
    "version": 2
   },
   "file_extension": ".py",
   "mimetype": "text/x-python",
   "name": "python",
   "nbconvert_exporter": "python",
   "pygments_lexer": "ipython2",
   "version": "2.7.11"
  }
 },
 "nbformat": 4,
 "nbformat_minor": 0
}
