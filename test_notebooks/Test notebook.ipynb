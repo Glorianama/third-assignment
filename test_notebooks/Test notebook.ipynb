{
 "cells": [
  {
   "cell_type": "markdown",
   "metadata": {},
   "source": [
    "# for Greenwood and Jovanovich\n"
   ]
  },
  {
   "cell_type": "markdown",
   "metadata": {},
   "source": [
    "Other refereces:\n",
    "- Integral over a distribution: http://math.stackexchange.com/questions/380785/what-does-it-mean-to-integrate-with-respect-to-the-distribution-function\n"
   ]
  },
  {
   "cell_type": "code",
   "execution_count": 1,
   "metadata": {
    "collapsed": true
   },
   "outputs": [],
   "source": [
    "import numpy as np\n",
    "import scipy as sp"
   ]
  },
  {
   "cell_type": "code",
   "execution_count": 3,
   "metadata": {
    "collapsed": false
   },
   "outputs": [
    {
     "name": "stdout",
     "output_type": "stream",
     "text": [
      "-15.0\n",
      "<type 'numpy.ndarray'>\n",
      "11\n"
     ]
    }
   ],
   "source": [
    "# Interpolation\n",
    "\n",
    "grid = np.linspace(0,10,11)\n",
    "w = 5 * grid - 25\n",
    "print sp.interp(2, grid, w)\n",
    "print type(grid)\n",
    "print grid.size\n"
   ]
  },
  {
   "cell_type": "code",
   "execution_count": null,
   "metadata": {
    "collapsed": false
   },
   "outputs": [],
   "source": [
    "# Normal distributions density funciton.\n",
    "import scipy.stats\n",
    "\n",
    "def exp_val(x,safe):\n",
    "    print x,\":\",max(safe,x),\"*\",sp.stats.norm(loc=2,scale=0.3).pdf(x),\"=\",((max(safe,x))*sp.stats.norm(loc=2,scale=0.3).pdf(x))\n",
    "    return ((max(safe,x))*sp.stats.norm(loc=2,scale=0.3).pdf(x))\n",
    "    \n",
    "def int_exp_val(safe):\n",
    "    return sp.integrate.quad(exp_val,0,5,args=(safe))[0]\n",
    "    \n",
    "grid = np.random.normal(2,0.3,size=60)\n",
    "\n",
    "wealth_distr = scipy.stats.norm(loc=2,scale=0.4)\n",
    "\n",
    "#print min(grid)\n",
    "print int_exp_val(0)\n",
    "print sp.integrate.quad(lambda x: sp.stats.norm(loc=2,scale=0.3).pdf(x),0,5)[0]\n"
   ]
  },
  {
   "cell_type": "code",
   "execution_count": null,
   "metadata": {
    "collapsed": false
   },
   "outputs": [],
   "source": [
    "print sp.stats.norm(loc=2,scale=0.3).pdf(4.191)"
   ]
  },
  {
   "cell_type": "code",
   "execution_count": 13,
   "metadata": {
    "collapsed": false
   },
   "outputs": [
    {
     "name": "stdout",
     "output_type": "stream",
     "text": [
      "8.5\n"
     ]
    }
   ],
   "source": [
    "def x_interp(xax,yax):\n",
    "    return lambda x: sp.interp(x,xax,yax)\n",
    "    \n",
    "x_axis = np.linspace(0,15,1000)\n",
    "y_axis = x_axis*0.5+1\n",
    "function_ = x_interp(x_axis,y_axis)\n",
    "print function_(15)\n"
   ]
  },
  {
   "cell_type": "markdown",
   "metadata": {},
   "source": [
    "## The Bellman operators for the two value functions\n",
    "This part is based on the Prof. Sargent and Prof. Stachurski's approach from [HERE](http://quant-econ.net/py/optgrowth.html)."
   ]
  },
  {
   "cell_type": "code",
   "execution_count": 4,
   "metadata": {
    "collapsed": false
   },
   "outputs": [
    {
     "ename": "IndentationError",
     "evalue": "expected an indented block (<ipython-input-4-56b7340987eb>, line 5)",
     "output_type": "error",
     "traceback": [
      "\u001b[1;36m  File \u001b[1;32m\"<ipython-input-4-56b7340987eb>\"\u001b[1;36m, line \u001b[1;32m5\u001b[0m\n\u001b[1;33m    def bellman_operator_v(v,grid):\u001b[0m\n\u001b[1;37m      ^\u001b[0m\n\u001b[1;31mIndentationError\u001b[0m\u001b[1;31m:\u001b[0m expected an indented block\n"
     ]
    }
   ],
   "source": [
    "def Aw_interp(x,y):\n",
    "    return lambda x: sp.interp(x,x_val,y)\n",
    "\n",
    "def vObj_intFunc(theta,safe,s):\n",
    "    \n",
    "    \n",
    "\n",
    "def bellman_operator_v(v,grid):\n",
    "    \"\"\"\n",
    "    The approximate Bellman operator, which computes and returns the updated\n",
    "    value function Tw on the grid points.\n",
    "\n",
    "        * w is a flat NumPy array with len(w) = len(grid)\n",
    "\n",
    "    The vector w represents the value of the input function on the grid\n",
    "    points.\n",
    "    \"\"\"\n",
    "    # === Apply linear interpolation to w === #\n",
    "    Aw = lambda x: interp(x, grid, v)\n",
    "\n",
    "    # === set Tw[i] equal to max_c { log(c) + beta w(f(k_i) - c)} === #\n",
    "    Tv = np.empty(grid.size)\n",
    "    for i, k in enumerate(grid):\n",
    "        # objective = lambda c: - log(c) - beta * Aw(k**alpha - c)\n",
    "        objective = lambda s: - np.log(k-s) - BETA * Aw()\n",
    "        c_star = fminbound(objective, 1e-6, k**alpha)\n",
    "        Tv[i] = - objective(c_star)\n",
    "\n",
    "    return Tv"
   ]
  },
  {
   "cell_type": "code",
   "execution_count": null,
   "metadata": {
    "collapsed": true
   },
   "outputs": [],
   "source": []
  }
 ],
 "metadata": {
  "kernelspec": {
   "display_name": "Python 2",
   "language": "python",
   "name": "python2"
  },
  "language_info": {
   "codemirror_mode": {
    "name": "ipython",
    "version": 2
   },
   "file_extension": ".py",
   "mimetype": "text/x-python",
   "name": "python",
   "nbconvert_exporter": "python",
   "pygments_lexer": "ipython2",
   "version": "2.7.11"
  }
 },
 "nbformat": 4,
 "nbformat_minor": 0
}
