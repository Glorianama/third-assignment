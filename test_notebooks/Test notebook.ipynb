{
 "cells": [
  {
   "cell_type": "markdown",
   "metadata": {},
   "source": [
    "# for Greenwood and Jovanovich\n"
   ]
  },
  {
   "cell_type": "markdown",
   "metadata": {},
   "source": [
    "Other refereces:\n",
    "- Integral over a distribution: http://math.stackexchange.com/questions/380785/what-does-it-mean-to-integrate-with-respect-to-the-distribution-function\n"
   ]
  },
  {
   "cell_type": "code",
   "execution_count": null,
   "metadata": {
    "collapsed": false
   },
   "outputs": [],
   "source": [
    "import numpy as np\n",
    "import scipy as sp\n",
    "import scipy.stats\n",
    "from scipy.optimize import fminbound"
   ]
  },
  {
   "cell_type": "code",
   "execution_count": null,
   "metadata": {
    "collapsed": false
   },
   "outputs": [],
   "source": [
    "# Interpolation\n",
    "\n",
    "grid = np.linspace(0,10,11)\n",
    "w = 5 * grid - 25\n",
    "print sp.interp(2, grid, w)\n",
    "print type(grid)\n",
    "print grid.size\n"
   ]
  },
  {
   "cell_type": "code",
   "execution_count": null,
   "metadata": {
    "collapsed": false
   },
   "outputs": [],
   "source": [
    "# Normal distributions density funciton.\n",
    "import scipy.stats\n",
    "\n",
    "def exp_val(x,safe):\n",
    "    print x,\":\",max(safe,x),\"*\",sp.stats.norm(loc=2,scale=0.3).pdf(x),\"=\",((max(safe,x))*sp.stats.norm(loc=2,scale=0.3).pdf(x))\n",
    "    return ((max(safe,x))*sp.stats.norm(loc=2,scale=0.3).pdf(x))\n",
    "    \n",
    "def int_exp_val(safe):\n",
    "    return sp.integrate.quad(exp_val,0,5,args=(safe))[0]\n",
    "    \n",
    "grid = np.random.normal(2,0.3,size=60)\n",
    "\n",
    "wealth_distr = scipy.stats.norm(loc=2,scale=0.4)\n",
    "\n",
    "#print min(grid)\n",
    "print int_exp_val(0)\n",
    "print sp.integrate.quad(lambda x: sp.stats.norm(loc=2,scale=0.3).pdf(x),0,5)[0]\n"
   ]
  },
  {
   "cell_type": "code",
   "execution_count": null,
   "metadata": {
    "collapsed": false
   },
   "outputs": [],
   "source": [
    "print sp.stats.norm(loc=2,scale=0.3).pdf(4.191)"
   ]
  },
  {
   "cell_type": "markdown",
   "metadata": {},
   "source": [
    "Tests with the interpolation function and the integral function."
   ]
  },
  {
   "cell_type": "code",
   "execution_count": null,
   "metadata": {
    "collapsed": true
   },
   "outputs": [],
   "source": [
    "    \n",
    "x_axis = np.linspace(0,15,500)\n",
    "y_axis = x_axis*0.5\n",
    "print y_axis"
   ]
  },
  {
   "cell_type": "code",
   "execution_count": null,
   "metadata": {
    "collapsed": false
   },
   "outputs": [],
   "source": [
    "def x_interp(xax,yax):\n",
    "    return lambda x: sp.interp(x,xax,yax)\n",
    "\n",
    "function_ = x_interp(x_axis,y_axis)\n",
    "print function_(15)\n"
   ]
  },
  {
   "cell_type": "code",
   "execution_count": null,
   "metadata": {
    "collapsed": false
   },
   "outputs": [],
   "source": [
    "SAFE = 1\n",
    "def PDF(x):\n",
    "    return sp.stats.norm(loc=2,scale=0.3).pdf(x)\n",
    "def integral(s,am):\n",
    "    return sp.integrate.quad((lambda theta,sI : sp.interp(sI*max(SAFE,theta),x_axis,y_axis)*PDF(theta)),0,am,args=s)\n",
    "\n",
    "print integral(1,10)"
   ]
  },
  {
   "cell_type": "code",
   "execution_count": null,
   "metadata": {
    "collapsed": false,
    "scrolled": true
   },
   "outputs": [],
   "source": [
    "BETA = 0.987\n",
    "capital = 3\n",
    "objective = lambda s,k: - np.log(k-s) - BETA * integral(s,10)[0]\n",
    "s_star = fminbound(objective, 1e-6, capital, args=(capital,))\n",
    "print s_star\n",
    "print -objective(s_star,capital)"
   ]
  },
  {
   "cell_type": "markdown",
   "metadata": {},
   "source": [
    "## The Bellman operators for the two value functions\n",
    "This part is based on the Prof. Sargent and Prof. Stachurski's approach from [HERE](http://quant-econ.net/py/optgrowth.html)."
   ]
  },
  {
   "cell_type": "code",
   "execution_count": null,
   "metadata": {
    "collapsed": false
   },
   "outputs": [],
   "source": []
  },
  {
   "cell_type": "code",
   "execution_count": null,
   "metadata": {
    "collapsed": false
   },
   "outputs": [
    {
     "name": "stdout",
     "output_type": "stream",
     "text": [
      "0\n",
      "1\n",
      "2\n",
      "3\n",
      "4"
     ]
    }
   ],
   "source": [
    "import numpy as np\n",
    "import scipy as sp\n",
    "import scipy.stats\n",
    "from scipy.integrate import nquad\n",
    "from scipy.optimize import fminbound\n",
    "from numpy import log\n",
    "from scipy import interp\n",
    "\n",
    "SAFE = 1\n",
    "BETA = 0.987\n",
    "# DISTRIBUTION PARAM\n",
    "MEAN = 2\n",
    "STDEV = 0.3\n",
    "MAX_VAL = 5\n",
    "\n",
    "wealth_axis = np.linspace(1e-6,15,50)\n",
    "\n",
    "def PDF(x):\n",
    "    return scipy.stats.norm(loc=MEAN,scale=STDEV).pdf(x)\n",
    "\n",
    "def v_integral(s,MAX,W_ax,Y_ax):\n",
    "    return nquad((lambda theta,sI : interp(sI*max(SAFE,theta),\n",
    "                                          W_ax,Y_ax)*PDF(theta)),[[0,MAX]],args=(s,))\n",
    "\n",
    "def v_bellman_op(v):\n",
    "    Tv = np.empty(wealth_axis.size)\n",
    "    for i, k in enumerate(wealth_axis):\n",
    "        objective = lambda s,k: - np.log(k-s) - BETA * v_integral(s,MAX_VAL,\n",
    "                                                               wealth_axis,\n",
    "                                                               v)[0]\n",
    "        s_star = fminbound(objective, 1e-12, k-1e-12, args=(k,))\n",
    "        Tv[i] = -objective(s_star,k)\n",
    "        print i\n",
    "    return Tv\n",
    "\n",
    "v = 5 * log(wealth_axis) - 25\n",
    "v2 = v_bellman_op(v)\n",
    "print v\n",
    "print v2"
   ]
  }
 ],
 "metadata": {
  "kernelspec": {
   "display_name": "Python 2",
   "language": "python",
   "name": "python2"
  },
  "language_info": {
   "codemirror_mode": {
    "name": "ipython",
    "version": 2
   },
   "file_extension": ".py",
   "mimetype": "text/x-python",
   "name": "python",
   "nbconvert_exporter": "python",
   "pygments_lexer": "ipython2",
   "version": "2.7.11"
  }
 },
 "nbformat": 4,
 "nbformat_minor": 0
}
