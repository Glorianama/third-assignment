{
 "cells": [
  {
   "cell_type": "code",
   "execution_count": null,
   "metadata": {
    "collapsed": true
   },
   "outputs": [],
   "source": []
  },
  {
   "cell_type": "code",
   "execution_count": null,
   "metadata": {
    "collapsed": false
   },
   "outputs": [],
   "source": [
    "import numpy as np\n",
    "\n",
    "SAFE_PROJECT = 0.01 # return on safe project 1%\n",
    "T = 100 # number of periods\n",
    "# Idiosyncratic_shock parameters\n",
    "IS_MEAN = 0\n",
    "IS_STDE = 0.04\n",
    "\n",
    "class Agent: \n",
    "    \"\"\"\n",
    "        Class for an agent in the economy.\n",
    "    \"\"\"\n",
    "    def __init__(self,iD):\n",
    "        \"\"\"\n",
    "            - randomly drawn initial wealth\n",
    "            - randomly drawn initial idiosyncractic shock\n",
    "            - setting time preference\n",
    "        \"\"\"\n",
    "        self.ID = iD\n",
    "        self.init_wealth = np.random.normal(2,0.4) \n",
    "        self.wealth = self.init_wealth\n",
    "        self.idios_shock = np.random.normal(IS_MEAN,IS_STDE)\n",
    "        self.pref = 0.987\n",
    "        self.member = False\n",
    "        \n",
    "    def tick(self):\n",
    "        self.idios_shock = np.random.normal(IS_MEAN,IS_STDE)\n",
    "        \n",
    "class Intermediary:\n",
    "    def __init__(self):\n",
    "        \"\"\"\n",
    "            - list for member agents\n",
    "            - definin cost of joining the inst.\n",
    "            - setting sampling parameter (% of the indiv.\n",
    "              projects selected into the sample)\n",
    "            - est_ret = the estimated return based on the\n",
    "              sample\n",
    "        \"\"\"\n",
    "        self.agents = []\n",
    "        self.joincost = 1.5\n",
    "        self.idios_shocks = []\n",
    "        # sampling parameter - this % of the individual\n",
    "        self.sampling = 0.4\n",
    "        \n",
    "        self.est_ret = 1\n",
    "        \n",
    "    def add_member(self, iD, shock):\n",
    "        self.agents.append(iD)\n",
    "        self.idios_shock.append(shock)"
   ]
  },
  {
   "cell_type": "code",
   "execution_count": null,
   "metadata": {
    "collapsed": true
   },
   "outputs": [],
   "source": []
  }
 ],
 "metadata": {
  "kernelspec": {
   "display_name": "Python 2",
   "language": "python",
   "name": "python2"
  },
  "language_info": {
   "codemirror_mode": {
    "name": "ipython",
    "version": 2
   },
   "file_extension": ".py",
   "mimetype": "text/x-python",
   "name": "python",
   "nbconvert_exporter": "python",
   "pygments_lexer": "ipython2",
   "version": "2.7.11"
  }
 },
 "nbformat": 4,
 "nbformat_minor": 0
}
